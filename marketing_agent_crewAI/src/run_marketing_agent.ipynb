{
 "cells": [
  {
   "cell_type": "code",
   "execution_count": null,
   "id": "9f568a66",
   "metadata": {},
   "outputs": [],
   "source": [
    "import os\n",
    "from marketing_agent.main import run"
   ]
  },
  {
   "cell_type": "code",
   "execution_count": null,
   "id": "6fe0d759-c8eb-4975-87d0-6bef9d57263f",
   "metadata": {},
   "outputs": [],
   "source": [
    "\"\"\"\n",
    "check environment variables for `SERPER_API_KEY` and `CLARIFAI_PAT`.\n",
    "if not available, allow user to enter in below\n",
    "\"\"\"\n",
    "\n",
    "serper_api_key = os.getenv(\"SERPER_API_KEY\")\n",
    "if serper_api_key is None:\n",
    "  os.environ['SERPER_API_KEY'] = \"your_serper_api_key\"\n",
    "\n",
    "clarifai_pat = os.getenv(\"CLARIFAI_PAT\")\n",
    "if clarifai_pat is None:\n",
    "  os.environ[\"OPENAI_API_KEY\"] = \"your_clarifai_personal_access_token\""
   ]
  },
  {
   "cell_type": "code",
   "execution_count": null,
   "id": "17325420-f42a-4c55-a818-e806ea79304d",
   "metadata": {},
   "outputs": [],
   "source": [
    "\"\"\"\n",
    "customer_domain: the main website that Serper will search for context gathering\n",
    "project_description: a description of what your Marketing campaign will be focused on\n",
    "\"\"\"\n",
    "\n",
    "user_inputs = {\n",
    "  \"customer_domain\": \"clarifai.com\",\n",
    "  \"project_description\": \"Create a campaign comparing Clarifai's CO capabilities with pizza.\",\n",
    "}"
   ]
  },
  {
   "cell_type": "code",
   "execution_count": null,
   "id": "635bec6f",
   "metadata": {},
   "outputs": [],
   "source": [
    "\"\"\"\n",
    "Once kicked off, each agent will take on their role (initial market research, continued research and develop the campaign strategy, etc).\n",
    "\"\"\"\n",
    "\n",
    "run(user_inputs)"
   ]
  },
  {
   "cell_type": "code",
   "execution_count": null,
   "id": "c3197ce3",
   "metadata": {},
   "outputs": [],
   "source": []
  }
 ],
 "metadata": {
  "kernelspec": {
   "display_name": "Python 3 (ipykernel)",
   "language": "python",
   "name": "python3"
  },
  "language_info": {
   "codemirror_mode": {
    "name": "ipython",
    "version": 3
   },
   "file_extension": ".py",
   "mimetype": "text/x-python",
   "name": "python",
   "nbconvert_exporter": "python",
   "pygments_lexer": "ipython3",
   "version": "3.12.8"
  }
 },
 "nbformat": 4,
 "nbformat_minor": 5
}
